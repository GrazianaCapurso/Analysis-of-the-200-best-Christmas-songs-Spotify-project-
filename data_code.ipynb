{
  "nbformat": 4,
  "nbformat_minor": 0,
  "metadata": {
    "colab": {
      "provenance": []
    },
    "kernelspec": {
      "name": "python3",
      "display_name": "Python 3"
    },
    "language_info": {
      "name": "python"
    }
  },
  "cells": [
    {
      "cell_type": "markdown",
      "source": [
        "#**DATA CODE**\n",
        "This code utilizes Spotify APIs to fetch data for individual songs from the \"200 Best Christmas Songs\" playlist.\\\n",
        "It extracts various musical features, such as:\n",
        "\n",
        "<div align=\"center\">\n",
        "\n",
        "| Feature           | Description                  |\n",
        "|-------------------|------------------------------|\n",
        "| danceability      | Measure of danceability      |\n",
        "| energy            | Energy level of the song     |\n",
        "| key               | Key the track is in          |\n",
        "| loudness          | Overall loudness of the track|\n",
        "| mode              | Modality of the track        |\n",
        "| speechiness       | Speechiness of the track     |\n",
        "| acousticness      | Acousticness of the track    |\n",
        "| instrumentalness  | Instrumentalness of the track|\n",
        "| liveness          | Liveness of the track        |\n",
        "| valence           | Musical positiveness         |\n",
        "| tempo             | Tempo of the track           |\n",
        "| type              | Type of the track            |\n",
        "| id                | Unique identifier for the track|\n",
        "| uri               | URI of the track             |\n",
        "| track_href        | HREF of the track            |\n",
        "| analysis_url      | URL for audio analysis       |\n",
        "| duration_ms       | Duration of the track in milliseconds|\n",
        "| time_signature    | Time signature of the track  |\n",
        "\n",
        "</div>"
      ],
      "metadata": {
        "id": "JPnDAoiSEU7W"
      }
    },
    {
      "cell_type": "code",
      "source": [
        "!pip install spotipy --upgrade"
      ],
      "metadata": {
        "id": "ualixEHb8_OG"
      },
      "execution_count": null,
      "outputs": []
    },
    {
      "cell_type": "code",
      "execution_count": null,
      "metadata": {
        "id": "zT4h3-np8_OH"
      },
      "outputs": [],
      "source": [
        "import pandas as pd\n",
        "import spotipy\n",
        "from spotipy.oauth2 import SpotifyClientCredentials"
      ]
    },
    {
      "cell_type": "code",
      "source": [
        "cid = #codiceid\n",
        "secret = #psw\n",
        "client_credentials_manager = SpotifyClientCredentials(client_id=cid, client_secret=secret)\n",
        "sp = spotipy.Spotify(client_credentials_manager = client_credentials_manager)"
      ],
      "metadata": {
        "id": "eDT5OJTACaVo"
      },
      "execution_count": null,
      "outputs": []
    },
    {
      "cell_type": "code",
      "source": [
        "playlist_link = \"https://open.spotify.com/playlist/1vR8ygmTneF5SzdTV7nFUd?si=pL3Bo6fTR0uzOXqcn7LKJQ\"\n",
        "playlist_URI = playlist_link.split(\"/\")[-1].split(\"?\")[0]\n",
        "\n",
        "offset = 0\n",
        "limit = 100\n",
        "playlist_tracks = []\n",
        "\n",
        "while True:\n",
        "    tracks_batch = sp.playlist_tracks(playlist_URI, limit=limit, offset=offset)[\"items\"]\n",
        "    if not tracks_batch:\n",
        "        break\n",
        "    playlist_tracks.extend(tracks_batch)\n",
        "    offset += limit\n",
        "\n",
        "track_uris = [x[\"track\"][\"uri\"] for x in playlist_tracks]\n",
        "\n",
        "data = []\n",
        "\n",
        "for track in playlist_tracks:\n",
        "\n",
        "    track_uri = track[\"track\"][\"uri\"]\n",
        "    track_name = track[\"track\"][\"name\"]\n",
        "\n",
        "    artist_uri = track[\"track\"][\"artists\"][0][\"uri\"]\n",
        "    artist_info = sp.artist(artist_uri)\n",
        "    artist_name = track[\"track\"][\"artists\"][0][\"name\"]\n",
        "    artist_pop = artist_info[\"popularity\"]\n",
        "    artist_genres = artist_info[\"genres\"]\n",
        "\n",
        "    album = track[\"track\"][\"album\"][\"name\"]\n",
        "    track_pop = track[\"track\"][\"popularity\"]\n",
        "\n",
        "    audio_features = sp.audio_features(track_uri)[0]\n",
        "\n",
        "    data.append({\n",
        "        'Track Name': track_name,\n",
        "        'Artist Name': artist_name,\n",
        "        'Artist Popularity': artist_pop,\n",
        "        'Artist Genres': artist_genres,\n",
        "        'Album': album,\n",
        "        'Track Popularity': track_pop,\n",
        "        'Audio Features': audio_features\n",
        "    })\n",
        "\n",
        "df = pd.DataFrame(data)"
      ],
      "metadata": {
        "id": "ZsHs1joQ8_OH"
      },
      "execution_count": null,
      "outputs": []
    },
    {
      "cell_type": "code",
      "source": [
        "audio_features = ['danceability', 'energy', 'key', 'loudness', 'mode', 'speechiness', 'acousticness', 'instrumentalness', 'liveness', 'valence', 'tempo', 'type', 'id', 'uri', 'track_href', 'analysis_url', 'duration_ms', 'time_signature']\n",
        "\n",
        "for col in audio_features:\n",
        "    if col in df['Audio Features'][0]:\n",
        "        df[col] = df['Audio Features'].apply(lambda x: x[col])\n",
        "    else:\n",
        "        df[col] = None\n",
        "\n",
        "df.drop(columns=['Audio Features'], inplace=True)"
      ],
      "metadata": {
        "id": "HiUKhQLC8_OI"
      },
      "execution_count": null,
      "outputs": []
    },
    {
      "cell_type": "code",
      "source": [
        "df.to_csv('spotify.csv', index = False)"
      ],
      "metadata": {
        "id": "ZBblE9rd8_OI"
      },
      "execution_count": null,
      "outputs": []
    }
  ]
}